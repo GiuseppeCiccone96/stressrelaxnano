{
 "cells": [
  {
   "cell_type": "code",
   "execution_count": null,
   "id": "d01a785e",
   "metadata": {},
   "outputs": [],
   "source": [
    "import numpy as np \n",
    "import matplotlib.pyplot as plt \n",
    "from scipy.signal import savgol_filter\n",
    "import os \n",
    "import pandas as pd\n",
    "%matplotlib inline\n",
    "plt.rcParams['figure.dpi'] = 300\n",
    "plt.rcParams['font.size']= 15\n",
    "plt.style.use(\"seaborn-colorblind\")"
   ]
  },
  {
   "cell_type": "markdown",
   "id": "ef6e19b7",
   "metadata": {},
   "source": [
    "# Introduction\n",
    "This notebook allows to analyse stress relaxation data obtained from the Chiaro nanoindenter. It is divided into several sections that should be ran in order."
   ]
  },
  {
   "cell_type": "markdown",
   "id": "8790d703",
   "metadata": {},
   "source": [
    "## 1) Functions"
   ]
  },
  {
   "cell_type": "code",
   "execution_count": null,
   "id": "2387e405",
   "metadata": {},
   "outputs": [],
   "source": [
    "def get_files(dir_path,ext=\".txt\"):\n",
    "    \"\"\"Gets files from one directory and stores them into a list.\"\"\"\n",
    "    files_list = [] #list of file names\n",
    "    files_dir = [] #list of file directories\n",
    "    for root, dirs, files in os.walk(dir_path):\n",
    "        for name in files:\n",
    "        #get only txt files but exclude position.txt\n",
    "            if ext==\".txt\":\n",
    "                if name.endswith(ext) and not name.endswith('position.txt'):\n",
    "                    files_list.append(name)\n",
    "                    files_dir.append(os.path.join(root, name))\n",
    "            else:\n",
    "            #for other extensions, do not exclude files\n",
    "                if name.endswith(ext):\n",
    "                    files_list.append(name)\n",
    "                    files_dir.append(os.path.join(root, name))\n",
    "    return files_list, files_dir\n",
    "\n",
    "def read_file(f): \n",
    "    \"\"\"\n",
    "    Reads one .txt file \n",
    "    \"\"\"\n",
    "    with open(f, encoding='utf-8', errors='ignore') as dynamic:\n",
    "        stopLine = 'Time (s)'\n",
    "        numeric = False\n",
    "        data = []\n",
    "        for riga in dynamic:\n",
    "            if numeric is False:\n",
    "                if riga[0:len(stopLine)] == stopLine:\n",
    "                    numeric = True\n",
    "            else:\n",
    "                line = riga.strip().replace(',', '.').split('\\t')\n",
    "                # Time (s) Load (uN) Indentation (nm) Cantilever (nm) Piezo (nm) Auxiliary\n",
    "                # skip  #5 auxiliary if present\n",
    "                data.append([float(line[0]), float(line[1])*1000.0, float(line[2]),\n",
    "                            float(line[3]), float(line[4])])\n",
    "        data = np.array(data)\n",
    "    return data\n",
    "      \n",
    "\n",
    "#TODO \n",
    "#separates forward and backwards segment \n",
    "def find_contact_point(z,f,al_th=10.0,al_ls=2000.0,avg_area=100.0):\n",
    "    \"\"\"Find CP by \"thresholding\" data and returns CP index\"\"\"\n",
    "    yth = al_th\n",
    "    x = z\n",
    "    y = f\n",
    "    if yth > np.max(y) or yth < np.min(y):\n",
    "        return False\n",
    "    jrov = 0\n",
    "    for j in range(len(y)-1, 1, -1):\n",
    "        if y[j] > yth and y[j-1] < yth:\n",
    "            jrov = j\n",
    "            break\n",
    "    x0 = x[jrov]\n",
    "    dx = al_ls\n",
    "    ddx = avg_area\n",
    "    if ddx <= 0:\n",
    "        jxalign = np.argmin((x - (x0 - dx)) ** 2)\n",
    "        f0 = y[jxalign]\n",
    "    else:\n",
    "        jxalignLeft = np.argmin((x-(x0-dx-ddx))**2)\n",
    "        jxalignRight = np.argmin((x-(x0-dx+ddx))**2)\n",
    "        f0 = np.average(y[jxalignLeft:jxalignRight])\n",
    "    jcp = jrov\n",
    "    for j in range(jrov, 1, -1):\n",
    "        if y[j] > f0 and y[j-1] < f0:\n",
    "            jcp = j\n",
    "            break\n",
    "    return jcp\n",
    "\n",
    "def getMedCurve(xar, yar,loose=True, threshold=3, error=False):\n",
    "    if loose is False:\n",
    "        xmin = -np.inf\n",
    "        xmax = np.inf\n",
    "        deltax = 0\n",
    "        nonecount = 0\n",
    "        for x in xar:\n",
    "            if x is not None and np.min(x) is not None:\n",
    "                xmin = np.max([xmin, np.min(x)])\n",
    "                xmax = np.min([xmax, np.max(x)])\n",
    "                deltax += ((np.max(x)-np.min(x))/(len(x)-1))\n",
    "            else:\n",
    "                nonecount += 1\n",
    "        deltax /= (len(xar)-nonecount)\n",
    "        xnew = np.linspace(xmin, xmax, int((xmax-xmin)/(deltax)))\n",
    "        ynew = np.zeros(len(xnew))\n",
    "        for i in range(len(xar)):\n",
    "            if xar[i] is not None and np.min(xar[i]) is not None:\n",
    "                ycur = np.interp(xnew, xar[i], yar[i])\n",
    "                ynew += ycur\n",
    "        ynew /= (len(xar)-nonecount)\n",
    "    else:\n",
    "        xmin = np.inf\n",
    "        xmax = -np.inf\n",
    "        deltax = 0\n",
    "        for x in xar:\n",
    "            try:\n",
    "                xmin = np.min([xmin, np.min(x)])\n",
    "                xmax = np.max([xmax, np.max(x)])\n",
    "                deltax += ((np.max(x) - np.min(x)) / (len(x) - 1))\n",
    "            except TypeError:\n",
    "                return\n",
    "        deltax /= len(xar)\n",
    "        xnewall = np.linspace(xmin, xmax, int((xmax - xmin) / deltax))\n",
    "        ynewall = np.zeros(len(xnewall))\n",
    "        count = np.zeros(len(xnewall))\n",
    "        ys = np.zeros([len(xnewall), len(xar)])\n",
    "        for i in range(len(xar)):\n",
    "            imin = np.argmin((xnewall - np.min(xar[i])) ** 2)  # +1\n",
    "            imax = np.argmin((xnewall - np.max(xar[i])) ** 2)  # -1\n",
    "            ycur = np.interp(xnewall[imin:imax], xar[i], yar[i])\n",
    "            ynewall[imin:imax] += ycur\n",
    "            count[imin:imax] += 1\n",
    "            for j in range(imin, imax):\n",
    "                ys[j][i] = ycur[j-imin]\n",
    "        cc = count >= threshold\n",
    "        xnew = xnewall[cc]\n",
    "        ynew = ynewall[cc] / count[cc]\n",
    "        yerrs_new = ys[cc]\n",
    "        yerr = []\n",
    "        for j in range(len(yerrs_new)):\n",
    "            squr_sum = 0\n",
    "            num = 0\n",
    "            std = 0\n",
    "            for i in range(0, len(yerrs_new[j])):\n",
    "                if yerrs_new[j][i] != 0:\n",
    "                    squr_sum += (yerrs_new[j][i] - ynew[j]) ** 2\n",
    "                    num += 1\n",
    "            if num > 0:\n",
    "                std = np.sqrt(squr_sum / num)\n",
    "            yerr.append(std)\n",
    "        yerr = np.asarray(yerr)\n",
    "    if error == False:\n",
    "        return xnew[:-1], ynew[:-1]\n",
    "    elif error == True:\n",
    "        return xnew[:-1], ynew[:-1], yerr[:-1]"
   ]
  },
  {
   "cell_type": "markdown",
   "id": "d4be4251",
   "metadata": {},
   "source": [
    "# Input Data \n",
    "Below, input the directory where all files to be analysed are stored. This can be a folder with one curve, a single matrix scan, a folder withmultiple matrix scan folders inside... etc!"
   ]
  },
  {
   "cell_type": "code",
   "execution_count": null,
   "id": "5282bf19",
   "metadata": {},
   "outputs": [],
   "source": [
    "#Please enter directory in the quotes\n",
    "directory = \"\" \n",
    "datanames,data = get_files(directory,ext=\".txt\") \n",
    "#Check whether correct data has been loaded\n",
    "data"
   ]
  },
  {
   "cell_type": "markdown",
   "id": "65d268de",
   "metadata": {},
   "source": [
    "# Screening \n",
    "the plot below serves to select the thresholds for screening and aligning below...\n",
    "TMAX is the maximum time for the plot."
   ]
  },
  {
   "cell_type": "code",
   "execution_count": null,
   "id": "45079f39",
   "metadata": {},
   "outputs": [],
   "source": [
    "#Analysis\n",
    "%matplotlib qt\n",
    "TMAX=20.0 #s \n",
    "tall = []\n",
    "fall = []\n",
    "for _, file in enumerate(data):\n",
    "    curve=read_file(file) \n",
    "    z=curve[:,4]\n",
    "    f=curve[:,1]\n",
    "    t=curve[:,0]\n",
    "    i_max_time = np.argmin((t-TMAX)**2)\n",
    "    t=t[:i_max_time]\n",
    "    f=f[:i_max_time]\n",
    "    #Offset curves \n",
    "    off = f[0]\n",
    "    if off <0: \n",
    "        f = f-off\n",
    "    else:\n",
    "        f = f\n",
    "    #Final variables to append\n",
    "    normf=f\n",
    "    plt.plot(t,normf,alpha=1,lw=0.1,c='k')\n",
    "plt.xlabel('time (s)')\n",
    "plt.ylabel('force (uN)')\n",
    "plt.show()"
   ]
  },
  {
   "cell_type": "markdown",
   "id": "d5000cc8",
   "metadata": {},
   "source": [
    "# Adjusting\n",
    "Now adjust thresholds"
   ]
  },
  {
   "cell_type": "code",
   "execution_count": null,
   "id": "ccf7ccbe",
   "metadata": {},
   "outputs": [],
   "source": [
    "#Analysis\n",
    "f_min=2.0 #The minium acceptable value for the max force \n",
    "f_max = 200.0 #The maximum acceptable value for the max force\n",
    "TMAX=20.0 #s \n",
    "screening = True #turn to True if you want to screen based on max force\n",
    "multimax=True # turn to True if the the peak force is not at 'beginning' of curve and select the time threshold below\n",
    "TIME_MULTIMAX=5.0\n",
    "tall = []\n",
    "fall = []\n",
    "for _, file in enumerate(data):\n",
    "    curve=read_file(file) \n",
    "    i_max_time = np.argmin((t-TMAX)**2)\n",
    "    z=curve[:,4]\n",
    "    f=curve[:,1]\n",
    "    t=curve[:,0]\n",
    "    #Screen bad curves based on maximum force (change this based on dataset)\n",
    "    #and skip analysis for curves that do not fulfill requirement \n",
    "    if screening is True:\n",
    "        if max(f) > f_max or max(f)<f_min:\n",
    "            continue\n",
    "    if multimax is True: \n",
    "        max_force = max(f)\n",
    "        i_max_force=np.argmin((f-max_force)**2)\n",
    "        t_max=t[i_max_force]\n",
    "        if t_max>TIME_MULTIMAX:\n",
    "            continue\n",
    "    #Find maximum force and corresponding time index;\n",
    "    #and plot from only max force. Align curves in time starting from max force value.\n",
    "    max_force = max(f)\n",
    "    i_max_force=np.argmin((f-max_force)**2)\n",
    "    f=f[i_max_force::]\n",
    "    t=t[i_max_force::]-t[i_max_force]\n",
    "    #Offset curves \n",
    "    off = f[0]\n",
    "    if off <0: \n",
    "        f = f-off\n",
    "    else:\n",
    "        f = f\n",
    "    #Final variables to append\n",
    "    normf=f[:i_max_time]/max(f[:i_max_time])\n",
    "    t=t[:i_max_time]\n",
    "    tall.append(t)\n",
    "    fall.append(normf)\n",
    "    plt.plot(t,normf,alpha=1,lw=0.1,c='k')\n",
    "plt.xlabel('time (s)')\n",
    "plt.ylabel('force (uN)')\n",
    "#find and plot average curve\n",
    "t_av,f_av,f_err=getMedCurve(tall,fall,error=True)\n",
    "#filter f_av \n",
    "# f_av = savgol_filter(f_av, window_length=2000,polyorder=3)\n",
    "plt.errorbar(t_av,f_av,c='tomato',lw=5,alpha=0.5)\n",
    "plt.show()"
   ]
  },
  {
   "cell_type": "markdown",
   "id": "ee63f2d1",
   "metadata": {},
   "source": [
    "# Copy and paste relaxation time in Excel"
   ]
  },
  {
   "cell_type": "code",
   "execution_count": null,
   "id": "6de9fa3c",
   "metadata": {
    "scrolled": true
   },
   "outputs": [],
   "source": [
    "#Extract time at which force reached 80% of original value\n",
    "F_TARGET=0.5*(max(f_av))\n",
    "i_fclose = np.argmin((f_av-F_TARGET)**2)\n",
    "t_target=t_av[i_fclose]\n",
    "\n",
    "print(f\"The time for which the stress relaxes to 80% of the original value is {t_target}\")"
   ]
  },
  {
   "cell_type": "markdown",
   "id": "484593ce",
   "metadata": {},
   "source": [
    "# Save average curve"
   ]
  },
  {
   "cell_type": "code",
   "execution_count": null,
   "id": "3be82057",
   "metadata": {},
   "outputs": [],
   "source": [
    "GEL_NAME=\"\"\n",
    "GEL_NAME = GEL_NAME + \".xlsx\"\n",
    "data={\"average force (uN)\":f_av, \"error force (uN)\":f_err, \"average time (s)\": t_av}\n",
    "df=pd.DataFrame(data)\n",
    "df.to_excel(GEL_NAME)"
   ]
  },
  {
   "cell_type": "markdown",
   "id": "b36a66fe",
   "metadata": {},
   "source": [
    "# Plot average curves for comparison (data saved above)"
   ]
  },
  {
   "cell_type": "code",
   "execution_count": null,
   "id": "31394933",
   "metadata": {},
   "outputs": [],
   "source": [
    "dir_average_curves=\"\"\n",
    "average_curves,data=get_files(dir_average_curves,ext=\".xlsx\")"
   ]
  },
  {
   "cell_type": "markdown",
   "id": "8f032d05",
   "metadata": {},
   "source": [
    "..."
   ]
  }
 ],
 "metadata": {
  "kernelspec": {
   "display_name": "Python 3 (ipykernel)",
   "language": "python",
   "name": "python3"
  },
  "language_info": {
   "codemirror_mode": {
    "name": "ipython",
    "version": 3
   },
   "file_extension": ".py",
   "mimetype": "text/x-python",
   "name": "python",
   "nbconvert_exporter": "python",
   "pygments_lexer": "ipython3",
   "version": "3.10.2"
  }
 },
 "nbformat": 4,
 "nbformat_minor": 5
}
